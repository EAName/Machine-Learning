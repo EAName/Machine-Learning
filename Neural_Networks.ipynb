{
  "cells": [
    {
      "cell_type": "markdown",
      "metadata": {
        "id": "E-VMtFPXiAg6"
      },
      "source": [
        "# Import Python Libraries"
      ]
    },
    {
      "cell_type": "code",
      "execution_count": 1,
      "metadata": {
        "id": "V2I3ikW7iAg7"
      },
      "outputs": [],
      "source": [
        "import numpy as np\n",
        "import time\n",
        "import random"
      ]
    },
    {
      "cell_type": "code",
      "execution_count": 2,
      "metadata": {
        "id": "MVntKTgXiAg8"
      },
      "outputs": [],
      "source": [
        "from sklearn.ensemble import RandomForestClassifier \n",
        "import sklearn.metrics as metrics"
      ]
    },
    {
      "cell_type": "code",
      "execution_count": 3,
      "metadata": {
        "colab": {
          "base_uri": "https://localhost:8080/"
        },
        "id": "b_hH_GXtiAg8",
        "outputId": "8c36422b-f062-41e0-fbab-707b495dadcd"
      },
      "outputs": [
        {
          "output_type": "stream",
          "name": "stdout",
          "text": [
            "2.8.2\n"
          ]
        }
      ],
      "source": [
        "import tensorflow as tf\n",
        "import matplotlib.pyplot as plt\n",
        "\n",
        "print( tf.__version__ )"
      ]
    },
    {
      "cell_type": "raw",
      "metadata": {
        "id": "B5DAgov0iAg8"
      },
      "source": [
        ""
      ]
    },
    {
      "cell_type": "markdown",
      "metadata": {
        "id": "4Ld8xhvYiAg8"
      },
      "source": [
        "# FASHION data"
      ]
    },
    {
      "cell_type": "raw",
      "metadata": {
        "id": "0eScyu50iAg9"
      },
      "source": [
        "Label   Class\n",
        "0       T-shirt/top\n",
        "1       Trouser\n",
        "2       Pullover\n",
        "3       Dress\n",
        "4       Coat\n",
        "5       Sandal\n",
        "6       Shirt\n",
        "7       Sneaker\n",
        "8       Bag\n",
        "9       Ankle boot\n"
      ]
    },
    {
      "cell_type": "code",
      "execution_count": 4,
      "metadata": {
        "id": "zx5CX8A6iAg9"
      },
      "outputs": [],
      "source": [
        "# Load in Fashion Data from mnist dataset\n",
        "mnist = tf.keras.datasets.fashion_mnist # 28x28 Fashion Image Data\n",
        "\n",
        "class_names = ['T-shirt/top', 'Trouser', 'Pullover', 'Dress', 'Coat', \n",
        "              'Sandal', 'Shirt', 'Sneaker', 'Bag', 'Ankle boot' ]\n"
      ]
    },
    {
      "cell_type": "markdown",
      "metadata": {
        "id": "s5Xsin4RiAg9"
      },
      "source": [
        "# NUMBER data"
      ]
    },
    {
      "cell_type": "code",
      "execution_count": 5,
      "metadata": {
        "id": "VDWTYSMDiAg9"
      },
      "outputs": [],
      "source": [
        "#Load in Data\n",
        "mnist = tf.keras.datasets.mnist # 28x28 Handwritten Digits 0-9"
      ]
    },
    {
      "cell_type": "code",
      "execution_count": 6,
      "metadata": {
        "colab": {
          "base_uri": "https://localhost:8080/"
        },
        "id": "52jFnoZViAg9",
        "outputId": "07ceb691-776e-4862-c77d-f2ce1af43ad9"
      },
      "outputs": [
        {
          "output_type": "stream",
          "name": "stdout",
          "text": [
            "Downloading data from https://storage.googleapis.com/tensorflow/tf-keras-datasets/mnist.npz\n",
            "11493376/11490434 [==============================] - 0s 0us/step\n",
            "11501568/11490434 [==============================] - 0s 0us/step\n"
          ]
        }
      ],
      "source": [
        "\n",
        "\n",
        "(x_train, y_train), (x_test, y_test) = mnist.load_data()\n",
        "\n",
        "# Normalize the Data\n",
        "x_train = tf.keras.utils.normalize( x_train, axis=1 )\n",
        "x_test = tf.keras.utils.normalize( x_test, axis=1 )\n",
        "\n",
        "x_train = x_train / 255 \n",
        "x_test = x_test / 255 \n",
        "\n"
      ]
    },
    {
      "cell_type": "code",
      "execution_count": 7,
      "metadata": {
        "colab": {
          "base_uri": "https://localhost:8080/"
        },
        "id": "BbIUhXc-iAg-",
        "outputId": "48a776d0-6834-4422-eb6d-f84fe974a638"
      },
      "outputs": [
        {
          "output_type": "stream",
          "name": "stdout",
          "text": [
            "<class 'numpy.ndarray'>\n",
            "(60000, 28, 28)\n",
            "<class 'numpy.ndarray'>\n",
            "(60000,)\n"
          ]
        }
      ],
      "source": [
        "\n",
        "print( type( x_train ) )\n",
        "print( x_train.shape )\n",
        "\n",
        "print( type( y_train ) )\n",
        "print( y_train.shape )\n"
      ]
    },
    {
      "cell_type": "code",
      "execution_count": 8,
      "metadata": {
        "colab": {
          "base_uri": "https://localhost:8080/"
        },
        "id": "c0P6Z6q1iAg-",
        "outputId": "16cc5c34-3159-450d-8ee8-bd609075d47d"
      },
      "outputs": [
        {
          "output_type": "stream",
          "name": "stdout",
          "text": [
            "Shape =  (28, 28)\n",
            "TOTAL SIZE =  784\n"
          ]
        }
      ],
      "source": [
        "INPUT_SHAPE = x_train[0].shape\n",
        "print(\"Shape = \", INPUT_SHAPE )\n",
        "\n",
        "TOTAL_SIZE = INPUT_SHAPE[0] * INPUT_SHAPE[1]\n",
        "print(\"TOTAL SIZE = \", TOTAL_SIZE)\n"
      ]
    },
    {
      "cell_type": "code",
      "execution_count": 9,
      "metadata": {
        "id": "5QgEI4DUiAg-"
      },
      "outputs": [],
      "source": [
        "def getRandomIndex( DATA ) :\n",
        "    return random.randint(0, DATA.shape[0] )"
      ]
    },
    {
      "cell_type": "code",
      "execution_count": 10,
      "metadata": {
        "scrolled": true,
        "colab": {
          "base_uri": "https://localhost:8080/",
          "height": 1000
        },
        "id": "1dwIK--7iAg_",
        "outputId": "bc8f6b21-df29-4897-a9c7-d25e6de951cf"
      },
      "outputs": [
        {
          "output_type": "stream",
          "name": "stdout",
          "text": [
            "who= 57531\n",
            "9\n",
            "[[0.00000000e+00 0.00000000e+00 0.00000000e+00 0.00000000e+00\n",
            "  0.00000000e+00 0.00000000e+00 0.00000000e+00 0.00000000e+00\n",
            "  0.00000000e+00 0.00000000e+00 0.00000000e+00 0.00000000e+00\n",
            "  0.00000000e+00 0.00000000e+00 0.00000000e+00 0.00000000e+00\n",
            "  0.00000000e+00 0.00000000e+00 0.00000000e+00 0.00000000e+00\n",
            "  0.00000000e+00 0.00000000e+00 0.00000000e+00 0.00000000e+00\n",
            "  0.00000000e+00 0.00000000e+00 0.00000000e+00 0.00000000e+00]\n",
            " [0.00000000e+00 0.00000000e+00 0.00000000e+00 0.00000000e+00\n",
            "  0.00000000e+00 0.00000000e+00 0.00000000e+00 0.00000000e+00\n",
            "  0.00000000e+00 0.00000000e+00 0.00000000e+00 0.00000000e+00\n",
            "  0.00000000e+00 0.00000000e+00 0.00000000e+00 0.00000000e+00\n",
            "  0.00000000e+00 0.00000000e+00 0.00000000e+00 0.00000000e+00\n",
            "  0.00000000e+00 0.00000000e+00 0.00000000e+00 0.00000000e+00\n",
            "  0.00000000e+00 0.00000000e+00 0.00000000e+00 0.00000000e+00]\n",
            " [0.00000000e+00 0.00000000e+00 0.00000000e+00 0.00000000e+00\n",
            "  0.00000000e+00 0.00000000e+00 0.00000000e+00 0.00000000e+00\n",
            "  0.00000000e+00 0.00000000e+00 0.00000000e+00 0.00000000e+00\n",
            "  0.00000000e+00 0.00000000e+00 0.00000000e+00 0.00000000e+00\n",
            "  0.00000000e+00 0.00000000e+00 0.00000000e+00 0.00000000e+00\n",
            "  0.00000000e+00 0.00000000e+00 0.00000000e+00 0.00000000e+00\n",
            "  0.00000000e+00 0.00000000e+00 0.00000000e+00 0.00000000e+00]\n",
            " [0.00000000e+00 0.00000000e+00 0.00000000e+00 0.00000000e+00\n",
            "  0.00000000e+00 0.00000000e+00 0.00000000e+00 0.00000000e+00\n",
            "  0.00000000e+00 0.00000000e+00 0.00000000e+00 0.00000000e+00\n",
            "  0.00000000e+00 0.00000000e+00 0.00000000e+00 0.00000000e+00\n",
            "  0.00000000e+00 0.00000000e+00 0.00000000e+00 0.00000000e+00\n",
            "  0.00000000e+00 0.00000000e+00 0.00000000e+00 0.00000000e+00\n",
            "  0.00000000e+00 0.00000000e+00 0.00000000e+00 0.00000000e+00]\n",
            " [0.00000000e+00 0.00000000e+00 0.00000000e+00 0.00000000e+00\n",
            "  0.00000000e+00 0.00000000e+00 0.00000000e+00 0.00000000e+00\n",
            "  0.00000000e+00 0.00000000e+00 0.00000000e+00 0.00000000e+00\n",
            "  0.00000000e+00 0.00000000e+00 0.00000000e+00 0.00000000e+00\n",
            "  0.00000000e+00 0.00000000e+00 0.00000000e+00 0.00000000e+00\n",
            "  0.00000000e+00 0.00000000e+00 0.00000000e+00 0.00000000e+00\n",
            "  0.00000000e+00 0.00000000e+00 0.00000000e+00 0.00000000e+00]\n",
            " [0.00000000e+00 0.00000000e+00 0.00000000e+00 0.00000000e+00\n",
            "  0.00000000e+00 0.00000000e+00 0.00000000e+00 0.00000000e+00\n",
            "  0.00000000e+00 0.00000000e+00 0.00000000e+00 0.00000000e+00\n",
            "  0.00000000e+00 0.00000000e+00 0.00000000e+00 0.00000000e+00\n",
            "  0.00000000e+00 0.00000000e+00 0.00000000e+00 0.00000000e+00\n",
            "  0.00000000e+00 0.00000000e+00 0.00000000e+00 0.00000000e+00\n",
            "  0.00000000e+00 0.00000000e+00 0.00000000e+00 0.00000000e+00]\n",
            " [0.00000000e+00 0.00000000e+00 0.00000000e+00 0.00000000e+00\n",
            "  0.00000000e+00 0.00000000e+00 0.00000000e+00 0.00000000e+00\n",
            "  0.00000000e+00 0.00000000e+00 0.00000000e+00 0.00000000e+00\n",
            "  0.00000000e+00 0.00000000e+00 1.30512448e-04 5.69284774e-04\n",
            "  1.23083938e-03 1.51460181e-03 1.71689182e-03 1.63771879e-03\n",
            "  1.04348061e-03 1.14677272e-04 0.00000000e+00 0.00000000e+00\n",
            "  0.00000000e+00 0.00000000e+00 0.00000000e+00 0.00000000e+00]\n",
            " [0.00000000e+00 0.00000000e+00 0.00000000e+00 0.00000000e+00\n",
            "  0.00000000e+00 0.00000000e+00 0.00000000e+00 0.00000000e+00\n",
            "  0.00000000e+00 0.00000000e+00 0.00000000e+00 0.00000000e+00\n",
            "  1.38767090e-04 5.23530553e-04 1.49778572e-03 1.54869944e-03\n",
            "  1.44978677e-03 1.18067385e-03 1.47355282e-03 1.63129637e-03\n",
            "  1.76000396e-03 2.12674214e-03 0.00000000e+00 0.00000000e+00\n",
            "  0.00000000e+00 0.00000000e+00 0.00000000e+00 0.00000000e+00]\n",
            " [0.00000000e+00 0.00000000e+00 0.00000000e+00 0.00000000e+00\n",
            "  0.00000000e+00 0.00000000e+00 0.00000000e+00 0.00000000e+00\n",
            "  0.00000000e+00 0.00000000e+00 1.26301507e-04 4.92565967e-04\n",
            "  1.23155792e-03 1.52245092e-03 1.42942205e-03 1.00390003e-03\n",
            "  2.60369869e-04 0.00000000e+00 8.78724160e-05 2.31207359e-04\n",
            "  1.65565589e-03 2.25184462e-03 0.00000000e+00 0.00000000e+00\n",
            "  0.00000000e+00 0.00000000e+00 0.00000000e+00 0.00000000e+00]\n",
            " [0.00000000e+00 0.00000000e+00 0.00000000e+00 0.00000000e+00\n",
            "  0.00000000e+00 0.00000000e+00 0.00000000e+00 0.00000000e+00\n",
            "  9.26535207e-05 5.41353559e-04 1.34721608e-03 1.51974622e-03\n",
            "  1.41658071e-03 8.24410181e-04 1.24297570e-04 0.00000000e+00\n",
            "  0.00000000e+00 0.00000000e+00 0.00000000e+00 4.94526851e-04\n",
            "  1.69043858e-03 2.18929338e-03 0.00000000e+00 0.00000000e+00\n",
            "  0.00000000e+00 0.00000000e+00 0.00000000e+00 0.00000000e+00]\n",
            " [0.00000000e+00 0.00000000e+00 0.00000000e+00 0.00000000e+00\n",
            "  0.00000000e+00 0.00000000e+00 0.00000000e+00 5.48337899e-05\n",
            "  1.36994849e-03 1.78576369e-03 1.52163244e-03 7.74890363e-04\n",
            "  2.37060445e-04 0.00000000e+00 0.00000000e+00 0.00000000e+00\n",
            "  0.00000000e+00 3.93557951e-04 2.23060748e-04 1.63129637e-03\n",
            "  1.76000396e-03 9.79969417e-04 0.00000000e+00 0.00000000e+00\n",
            "  0.00000000e+00 0.00000000e+00 0.00000000e+00 0.00000000e+00]\n",
            " [0.00000000e+00 0.00000000e+00 0.00000000e+00 0.00000000e+00\n",
            "  0.00000000e+00 0.00000000e+00 1.73450530e-04 1.68418069e-03\n",
            "  1.68099959e-03 1.64515237e-03 4.69119884e-04 0.00000000e+00\n",
            "  0.00000000e+00 0.00000000e+00 0.00000000e+00 0.00000000e+00\n",
            "  2.95874851e-04 1.35956383e-03 1.54114699e-03 1.63771879e-03\n",
            "  1.51652515e-03 1.35527685e-04 0.00000000e+00 0.00000000e+00\n",
            "  0.00000000e+00 0.00000000e+00 0.00000000e+00 0.00000000e+00]\n",
            " [0.00000000e+00 0.00000000e+00 0.00000000e+00 0.00000000e+00\n",
            "  0.00000000e+00 0.00000000e+00 1.40337247e-03 1.98184984e-03\n",
            "  1.67438148e-03 3.16375456e-04 0.00000000e+00 0.00000000e+00\n",
            "  0.00000000e+00 0.00000000e+00 0.00000000e+00 0.00000000e+00\n",
            "  1.05923197e-03 1.50863881e-03 1.71013240e-03 1.63129637e-03\n",
            "  4.38261854e-04 0.00000000e+00 0.00000000e+00 0.00000000e+00\n",
            "  0.00000000e+00 0.00000000e+00 0.00000000e+00 0.00000000e+00]\n",
            " [0.00000000e+00 0.00000000e+00 0.00000000e+00 0.00000000e+00\n",
            "  0.00000000e+00 0.00000000e+00 3.23248715e-03 1.98184984e-03\n",
            "  1.67438148e-03 8.99912409e-04 2.58617372e-04 2.22255375e-04\n",
            "  2.13932597e-04 4.15213887e-04 7.95504446e-04 1.09572016e-03\n",
            "  1.46753926e-03 1.50863881e-03 1.71013240e-03 1.31017503e-03\n",
            "  6.26088364e-05 0.00000000e+00 0.00000000e+00 0.00000000e+00\n",
            "  0.00000000e+00 0.00000000e+00 0.00000000e+00 0.00000000e+00]\n",
            " [0.00000000e+00 0.00000000e+00 0.00000000e+00 0.00000000e+00\n",
            "  0.00000000e+00 0.00000000e+00 1.70296884e-03 1.98184984e-03\n",
            "  1.67438148e-03 1.78576369e-03 1.52163244e-03 1.51974622e-03\n",
            "  1.46283641e-03 1.52245092e-03 1.57857914e-03 1.54869944e-03\n",
            "  1.49712675e-03 1.50863881e-03 1.39919924e-03 1.28448533e-04\n",
            "  0.00000000e+00 0.00000000e+00 0.00000000e+00 0.00000000e+00\n",
            "  0.00000000e+00 0.00000000e+00 0.00000000e+00 0.00000000e+00]\n",
            " [0.00000000e+00 0.00000000e+00 0.00000000e+00 0.00000000e+00\n",
            "  0.00000000e+00 0.00000000e+00 1.73450530e-04 8.69507240e-04\n",
            "  1.50231066e-03 1.78576369e-03 1.52163244e-03 1.51974622e-03\n",
            "  1.23733989e-03 9.74849995e-04 4.47471251e-04 8.75351857e-04\n",
            "  1.49712675e-03 1.43111982e-03 1.41947749e-04 0.00000000e+00\n",
            "  0.00000000e+00 0.00000000e+00 0.00000000e+00 0.00000000e+00\n",
            "  0.00000000e+00 0.00000000e+00 0.00000000e+00 0.00000000e+00]\n",
            " [0.00000000e+00 0.00000000e+00 0.00000000e+00 0.00000000e+00\n",
            "  0.00000000e+00 0.00000000e+00 0.00000000e+00 0.00000000e+00\n",
            "  0.00000000e+00 1.89825274e-04 5.47306531e-04 7.80897265e-05\n",
            "  0.00000000e+00 0.00000000e+00 1.30512448e-04 1.27936041e-03\n",
            "  1.50304424e-03 9.00412888e-04 0.00000000e+00 0.00000000e+00\n",
            "  0.00000000e+00 0.00000000e+00 0.00000000e+00 0.00000000e+00\n",
            "  0.00000000e+00 0.00000000e+00 0.00000000e+00 0.00000000e+00]\n",
            " [0.00000000e+00 0.00000000e+00 0.00000000e+00 0.00000000e+00\n",
            "  0.00000000e+00 0.00000000e+00 0.00000000e+00 0.00000000e+00\n",
            "  0.00000000e+00 0.00000000e+00 0.00000000e+00 0.00000000e+00\n",
            "  0.00000000e+00 0.00000000e+00 7.76859811e-04 1.54869944e-03\n",
            "  1.17758191e-03 2.38519970e-05 0.00000000e+00 0.00000000e+00\n",
            "  0.00000000e+00 0.00000000e+00 0.00000000e+00 0.00000000e+00\n",
            "  0.00000000e+00 0.00000000e+00 0.00000000e+00 0.00000000e+00]\n",
            " [0.00000000e+00 0.00000000e+00 0.00000000e+00 0.00000000e+00\n",
            "  0.00000000e+00 0.00000000e+00 0.00000000e+00 0.00000000e+00\n",
            "  0.00000000e+00 0.00000000e+00 0.00000000e+00 0.00000000e+00\n",
            "  0.00000000e+00 3.55037961e-04 1.49778572e-03 1.49972871e-03\n",
            "  4.49729774e-04 0.00000000e+00 0.00000000e+00 0.00000000e+00\n",
            "  0.00000000e+00 0.00000000e+00 0.00000000e+00 0.00000000e+00\n",
            "  0.00000000e+00 0.00000000e+00 0.00000000e+00 0.00000000e+00]\n",
            " [0.00000000e+00 0.00000000e+00 0.00000000e+00 0.00000000e+00\n",
            "  0.00000000e+00 0.00000000e+00 0.00000000e+00 0.00000000e+00\n",
            "  0.00000000e+00 0.00000000e+00 0.00000000e+00 0.00000000e+00\n",
            "  3.12225952e-04 1.43218703e-03 1.57857914e-03 9.73293323e-04\n",
            "  0.00000000e+00 0.00000000e+00 0.00000000e+00 0.00000000e+00\n",
            "  0.00000000e+00 0.00000000e+00 0.00000000e+00 0.00000000e+00\n",
            "  0.00000000e+00 0.00000000e+00 0.00000000e+00 0.00000000e+00]\n",
            " [0.00000000e+00 0.00000000e+00 0.00000000e+00 0.00000000e+00\n",
            "  0.00000000e+00 0.00000000e+00 0.00000000e+00 0.00000000e+00\n",
            "  0.00000000e+00 0.00000000e+00 0.00000000e+00 0.00000000e+00\n",
            "  8.15256653e-04 1.52245092e-03 1.41699230e-03 2.26489641e-04\n",
            "  0.00000000e+00 0.00000000e+00 0.00000000e+00 0.00000000e+00\n",
            "  0.00000000e+00 0.00000000e+00 0.00000000e+00 0.00000000e+00\n",
            "  0.00000000e+00 0.00000000e+00 0.00000000e+00 0.00000000e+00]\n",
            " [0.00000000e+00 0.00000000e+00 0.00000000e+00 0.00000000e+00\n",
            "  0.00000000e+00 0.00000000e+00 0.00000000e+00 0.00000000e+00\n",
            "  0.00000000e+00 0.00000000e+00 0.00000000e+00 5.70655694e-04\n",
            "  1.46861837e-03 1.52846851e-03 6.09058092e-04 0.00000000e+00\n",
            "  0.00000000e+00 0.00000000e+00 0.00000000e+00 0.00000000e+00\n",
            "  0.00000000e+00 0.00000000e+00 0.00000000e+00 0.00000000e+00\n",
            "  0.00000000e+00 0.00000000e+00 0.00000000e+00 0.00000000e+00]\n",
            " [0.00000000e+00 0.00000000e+00 0.00000000e+00 0.00000000e+00\n",
            "  0.00000000e+00 0.00000000e+00 0.00000000e+00 0.00000000e+00\n",
            "  0.00000000e+00 0.00000000e+00 1.92459440e-04 1.11728378e-03\n",
            "  1.46283641e-03 1.01095555e-03 0.00000000e+00 0.00000000e+00\n",
            "  0.00000000e+00 0.00000000e+00 0.00000000e+00 0.00000000e+00\n",
            "  0.00000000e+00 0.00000000e+00 0.00000000e+00 0.00000000e+00\n",
            "  0.00000000e+00 0.00000000e+00 0.00000000e+00 0.00000000e+00]\n",
            " [0.00000000e+00 0.00000000e+00 0.00000000e+00 0.00000000e+00\n",
            "  0.00000000e+00 0.00000000e+00 0.00000000e+00 0.00000000e+00\n",
            "  0.00000000e+00 7.73362227e-05 1.16077100e-03 1.51974622e-03\n",
            "  1.46283641e-03 8.96621292e-04 0.00000000e+00 0.00000000e+00\n",
            "  0.00000000e+00 0.00000000e+00 0.00000000e+00 0.00000000e+00\n",
            "  0.00000000e+00 0.00000000e+00 0.00000000e+00 0.00000000e+00\n",
            "  0.00000000e+00 0.00000000e+00 0.00000000e+00 0.00000000e+00]\n",
            " [0.00000000e+00 0.00000000e+00 0.00000000e+00 0.00000000e+00\n",
            "  0.00000000e+00 0.00000000e+00 0.00000000e+00 0.00000000e+00\n",
            "  0.00000000e+00 1.01240146e-03 1.52163244e-03 1.51974622e-03\n",
            "  9.25113933e-04 9.62814810e-05 0.00000000e+00 0.00000000e+00\n",
            "  0.00000000e+00 0.00000000e+00 0.00000000e+00 0.00000000e+00\n",
            "  0.00000000e+00 0.00000000e+00 0.00000000e+00 0.00000000e+00\n",
            "  0.00000000e+00 0.00000000e+00 0.00000000e+00 0.00000000e+00]\n",
            " [0.00000000e+00 0.00000000e+00 0.00000000e+00 0.00000000e+00\n",
            "  0.00000000e+00 0.00000000e+00 0.00000000e+00 0.00000000e+00\n",
            "  0.00000000e+00 9.13973541e-04 1.52163244e-03 1.16533900e-03\n",
            "  9.25113933e-05 0.00000000e+00 0.00000000e+00 0.00000000e+00\n",
            "  0.00000000e+00 0.00000000e+00 0.00000000e+00 0.00000000e+00\n",
            "  0.00000000e+00 0.00000000e+00 0.00000000e+00 0.00000000e+00\n",
            "  0.00000000e+00 0.00000000e+00 0.00000000e+00 0.00000000e+00]\n",
            " [0.00000000e+00 0.00000000e+00 0.00000000e+00 0.00000000e+00\n",
            "  0.00000000e+00 0.00000000e+00 0.00000000e+00 0.00000000e+00\n",
            "  0.00000000e+00 0.00000000e+00 0.00000000e+00 0.00000000e+00\n",
            "  0.00000000e+00 0.00000000e+00 0.00000000e+00 0.00000000e+00\n",
            "  0.00000000e+00 0.00000000e+00 0.00000000e+00 0.00000000e+00\n",
            "  0.00000000e+00 0.00000000e+00 0.00000000e+00 0.00000000e+00\n",
            "  0.00000000e+00 0.00000000e+00 0.00000000e+00 0.00000000e+00]\n",
            " [0.00000000e+00 0.00000000e+00 0.00000000e+00 0.00000000e+00\n",
            "  0.00000000e+00 0.00000000e+00 0.00000000e+00 0.00000000e+00\n",
            "  0.00000000e+00 0.00000000e+00 0.00000000e+00 0.00000000e+00\n",
            "  0.00000000e+00 0.00000000e+00 0.00000000e+00 0.00000000e+00\n",
            "  0.00000000e+00 0.00000000e+00 0.00000000e+00 0.00000000e+00\n",
            "  0.00000000e+00 0.00000000e+00 0.00000000e+00 0.00000000e+00\n",
            "  0.00000000e+00 0.00000000e+00 0.00000000e+00 0.00000000e+00]]\n"
          ]
        },
        {
          "output_type": "execute_result",
          "data": {
            "text/plain": [
              "<matplotlib.image.AxesImage at 0x7f5182d79290>"
            ]
          },
          "metadata": {},
          "execution_count": 10
        },
        {
          "output_type": "display_data",
          "data": {
            "text/plain": [
              "<Figure size 432x288 with 1 Axes>"
            ],
            "image/png": "[encoded data removed]"
          },
          "metadata": {
            "needs_background": "light"
          }
        }
      ],
      "source": [
        "\n",
        "who=0\n",
        "who=getRandomIndex( x_train )\n",
        "\n",
        "print(\"who=\", who)\n",
        "\n",
        "print( y_train[who])\n",
        "print( x_train[who])\n",
        "plt.imshow(x_train[who], plt.cm.binary) \n",
        "plt.imshow(x_train[who] ) \n"
      ]
    },
    {
      "cell_type": "raw",
      "metadata": {
        "id": "-rf76LgCiAg_"
      },
      "source": [
        ""
      ]
    },
    {
      "cell_type": "markdown",
      "metadata": {
        "id": "r7ZsbhJgiAhA"
      },
      "source": [
        "# SOLVE USING RANDOM FORESTS"
      ]
    },
    {
      "cell_type": "code",
      "execution_count": 11,
      "metadata": {
        "colab": {
          "base_uri": "https://localhost:8080/"
        },
        "id": "gD2spqL8iAhA",
        "outputId": "0bbdcae6-7265-4e58-d8f7-408ce8cd9886"
      },
      "outputs": [
        {
          "output_type": "stream",
          "name": "stdout",
          "text": [
            "(60000, 28, 28)\n",
            "(60000, 784)\n"
          ]
        }
      ],
      "source": [
        "new_x_train = []\n",
        "for i in x_train :\n",
        "    new_x_train.append( i.flatten() )\n",
        "new_x_train = np.array( new_x_train )\n",
        "\n",
        "new_x_test = []\n",
        "for i in x_test :\n",
        "    new_x_test.append( i.flatten() )\n",
        "new_x_test = np.array( new_x_test )\n",
        "\n",
        "print( x_train.shape )\n",
        "print( new_x_train.shape )"
      ]
    },
    {
      "cell_type": "code",
      "execution_count": 12,
      "metadata": {
        "id": "vki1TN_JiAhA",
        "colab": {
          "base_uri": "https://localhost:8080/"
        },
        "outputId": "10e29d87-cf19-4757-9603-a36eaa151720"
      },
      "outputs": [
        {
          "output_type": "stream",
          "name": "stdout",
          "text": [
            "Execution Time =  1024.386351108551\n"
          ]
        }
      ],
      "source": [
        "\n",
        "start_time = time.time()\n",
        "\n",
        "theTrees = int( 2*TOTAL_SIZE )\n",
        "\n",
        "clf = RandomForestClassifier( n_estimators = theTrees )\n",
        "clf.fit( new_x_train, y_train )\n",
        "\n",
        "print(\"Execution Time = \", (time.time()-start_time) )\n"
      ]
    },
    {
      "cell_type": "code",
      "execution_count": 13,
      "metadata": {
        "colab": {
          "base_uri": "https://localhost:8080/"
        },
        "id": "SDLiiJw8iAhA",
        "outputId": "7ac58b8b-4e96-466b-dd92-6eb65ca1c0ff"
      },
      "outputs": [
        {
          "output_type": "stream",
          "name": "stdout",
          "text": [
            "5\n",
            "train accuracy 1.0\n",
            "7\n",
            "test accuracy 0.9716\n"
          ]
        }
      ],
      "source": [
        "pred_train = clf.predict( new_x_train )\n",
        "print( pred_train[0] )\n",
        "RF_acc_train = metrics.accuracy_score(y_train, pred_train )\n",
        "print( \"train accuracy\", RF_acc_train )\n",
        "\n",
        "pred_test = clf.predict( new_x_test )\n",
        "print( pred_test[0] )\n",
        "RF_acc = metrics.accuracy_score(y_test, pred_test )\n",
        "print( \"test accuracy\", RF_acc )\n"
      ]
    },
    {
      "cell_type": "raw",
      "metadata": {
        "id": "VjJaCslriAhB"
      },
      "source": [
        ""
      ]
    },
    {
      "cell_type": "markdown",
      "metadata": {
        "id": "ED00NeCoiAhB"
      },
      "source": [
        "# SOLVE USING TENSOR FLOW NEURAL NETWORKS"
      ]
    },
    {
      "cell_type": "code",
      "execution_count": 14,
      "metadata": {
        "id": "WJ1LN07YiAhB"
      },
      "outputs": [],
      "source": [
        "theEpochs = 2\n",
        "\n",
        "theActivation = tf.keras.activations.relu\n",
        "\n",
        "\n",
        "units_01 = int( 2*TOTAL_SIZE )\n",
        "units_02 = units_01\n",
        "\n",
        "DENSE_LAYER_01 = tf.keras.layers.Dense( units=units_01, activation=theActivation )\n",
        "DENSE_LAYER_02 = tf.keras.layers.Dense( units=units_02, activation=theActivation )\n",
        "DENSE_LAYER_XX = tf.keras.layers.Dense(10, activation=tf.nn.softmax )\n",
        "\n",
        "DROPOUT_LAYER = tf.keras.layers.Dropout( 0.2 )\n",
        "\n",
        "\n",
        "theOptimizer = tf.keras.optimizers.Adam()\n",
        "theLossMetric = tf.keras.losses.SparseCategoricalCrossentropy()\n",
        "\n",
        "theSplit = 0.2\n",
        "theBatchSize = 32\n",
        "verboseFlag = True\n",
        "\n",
        "theTensorFlowSaveFile = \"TF_Number_Model\""
      ]
    },
    {
      "cell_type": "code",
      "execution_count": 15,
      "metadata": {
        "scrolled": false,
        "colab": {
          "base_uri": "https://localhost:8080/"
        },
        "id": "Nx7NWj3piAhC",
        "outputId": "0699de5d-f6ec-46f2-98a2-f6c0942bf3c8"
      },
      "outputs": [
        {
          "output_type": "stream",
          "name": "stdout",
          "text": [
            "Epoch 1/2\n",
            "1875/1875 [==============================] - 75s 39ms/step - loss: 0.5990 - accuracy: 0.8091\n",
            "Epoch 2/2\n",
            "1875/1875 [==============================] - 69s 37ms/step - loss: 0.2817 - accuracy: 0.9136\n",
            "Epoch 1/2\n",
            "1500/1500 [==============================] - 59s 40ms/step - loss: 0.2075 - accuracy: 0.9363 - val_loss: 0.1685 - val_accuracy: 0.9504\n",
            "Epoch 2/2\n",
            "1500/1500 [==============================] - 60s 40ms/step - loss: 0.1728 - accuracy: 0.9466 - val_loss: 0.1506 - val_accuracy: 0.9551\n",
            "Execution Time =  263.75560760498047\n"
          ]
        }
      ],
      "source": [
        "\n",
        "# Build the Model\n",
        "\n",
        "start_time = time.time()\n",
        "\n",
        "model = tf.keras.models.Sequential()\n",
        "model.add( tf.keras.layers.Flatten( input_shape=INPUT_SHAPE ) )\n",
        "model.add( DENSE_LAYER_01 )\n",
        "model.add( DROPOUT_LAYER )\n",
        "model.add( DENSE_LAYER_02 )\n",
        "model.add( DENSE_LAYER_XX )\n",
        "model.compile( optimizer=theOptimizer, loss=theLossMetric )\n",
        "model.compile( optimizer=theOptimizer, loss=theLossMetric, metrics=['accuracy'] )\n",
        "model.fit(x_train, y_train, epochs=theEpochs, verbose = verboseFlag )\n",
        "model.fit(x_train, y_train, epochs=theEpochs, validation_split=theSplit, batch_size=theBatchSize, verbose = verboseFlag )\n",
        "\n",
        "\n",
        "print(\"Execution Time = \", (time.time()-start_time) )\n",
        "\n",
        "\n"
      ]
    },
    {
      "cell_type": "code",
      "execution_count": 16,
      "metadata": {
        "colab": {
          "base_uri": "https://localhost:8080/"
        },
        "id": "G4APIMrMiAhC",
        "outputId": "01edc75b-e24b-44bd-beab-d71116873368"
      },
      "outputs": [
        {
          "output_type": "stream",
          "name": "stdout",
          "text": [
            "WHO =  258  Predicte = 2  Actual =  2\n",
            "WHO =  4384  Predicte = 2  Actual =  2\n",
            "WHO =  9393  Predicte = 7  Actual =  7\n",
            "WHO =  7078  Predicte = 6  Actual =  6\n",
            "WHO =  2001  Predicte = 5  Actual =  5\n",
            " --------- \n",
            "accuracy =  0.953\n"
          ]
        }
      ],
      "source": [
        "probs = model.predict( x_test )\n",
        "\n",
        "pred_list = []\n",
        "for p in probs :\n",
        "    pred_list.append( np.argmax( p ) )\n",
        "pred = np.array( pred_list )\n",
        "acc_score = metrics.accuracy_score( y_test, pred)\n",
        "\n",
        "for i in range(5) :\n",
        "    who = getRandomIndex( x_test )\n",
        "    print(\"WHO = \", who, \" Predicte =\", pred[who], \" Actual = \", y_test[who] )\n",
        "\n",
        "print(\" --------- \")\n",
        "print(\"accuracy = \", acc_score)\n"
      ]
    },
    {
      "cell_type": "code",
      "execution_count": 17,
      "metadata": {
        "colab": {
          "base_uri": "https://localhost:8080/"
        },
        "id": "A8BOgS3ziAhC",
        "outputId": "f68c934f-7b5e-4ac0-bfe4-86fea4681531"
      },
      "outputs": [
        {
          "output_type": "stream",
          "name": "stdout",
          "text": [
            "313/313 [==============================] - 3s 11ms/step - loss: 0.1519 - accuracy: 0.9530\n",
            "loss= 0.15189671516418457\n",
            "accuracy 0.953000009059906\n"
          ]
        }
      ],
      "source": [
        "NN_loss, NN_acc = model.evaluate( x_test, y_test )\n",
        "print(\"loss=\",NN_loss)\n",
        "print(\"accuracy\",NN_acc)"
      ]
    },
    {
      "cell_type": "code",
      "execution_count": 18,
      "metadata": {
        "id": "3-G_enuCiAhC"
      },
      "outputs": [],
      "source": [
        "model.save( theTensorFlowSaveFile )"
      ]
    },
    {
      "cell_type": "code",
      "execution_count": 19,
      "metadata": {
        "id": "-gQbzrmViAhD"
      },
      "outputs": [],
      "source": [
        "new_model= tf.keras.models.load_model( theTensorFlowSaveFile )"
      ]
    },
    {
      "cell_type": "code",
      "execution_count": 20,
      "metadata": {
        "id": "AcUdEx05iAhD"
      },
      "outputs": [],
      "source": [
        "predictions = new_model.predict( x_test )"
      ]
    },
    {
      "cell_type": "code",
      "execution_count": 21,
      "metadata": {
        "colab": {
          "base_uri": "https://localhost:8080/",
          "height": 316
        },
        "id": "65_2H69AiAhD",
        "outputId": "08123bcf-e127-4667-dbe7-2678be695adb"
      },
      "outputs": [
        {
          "output_type": "stream",
          "name": "stdout",
          "text": [
            "[2.8338618e-05 2.3738360e-06 1.4741045e-03 6.6946779e-07 8.3591399e-04\n",
            " 1.1744317e-04 9.9746621e-01 5.1877419e-07 7.4423668e-05 2.2285455e-08]\n",
            "predict= 6 actual= 6\n"
          ]
        },
        {
          "output_type": "display_data",
          "data": {
            "text/plain": [
              "<Figure size 432x288 with 1 Axes>"
            ],
            "image/png": "[encoded data removed]"
          },
          "metadata": {
            "needs_background": "light"
          }
        }
      ],
      "source": [
        "who=getRandomIndex( x_test )\n",
        "print( predictions[who]) # probability score\n",
        "result = np.argmax( list(predictions[who]) )\n",
        "print(\"predict=\",result,\"actual=\",y_test[who])\n",
        "plt.imshow( x_test[who], plt.cm.binary )\n",
        "plt.show()"
      ]
    },
    {
      "cell_type": "raw",
      "metadata": {
        "id": "K8-LiHIwiAhD"
      },
      "source": [
        ""
      ]
    },
    {
      "cell_type": "markdown",
      "metadata": {
        "id": "es0GVreUiAhD"
      },
      "source": [
        "# Accuracy of RANDOM FOREST and NEURAL NETWORK"
      ]
    },
    {
      "cell_type": "code",
      "execution_count": 22,
      "metadata": {
        "colab": {
          "base_uri": "https://localhost:8080/"
        },
        "id": "M6O-VK8NiAhD",
        "outputId": "14663beb-b5c0-4e4e-ccd8-978ac30d6ac4"
      },
      "outputs": [
        {
          "output_type": "stream",
          "name": "stdout",
          "text": [
            "RF accuracy 0.9716\n",
            "NN accuracy 0.953000009059906\n"
          ]
        }
      ],
      "source": [
        "print(\"RF accuracy\", RF_acc )\n",
        "print(\"NN accuracy\",NN_acc)"
      ]
    },
    {
      "cell_type": "code",
      "execution_count": null,
      "metadata": {
        "id": "LoLTPdP4iAhD"
      },
      "outputs": [],
      "source": [
        ""
      ]
    }
  ],
  "metadata": {
    "kernelspec": {
      "display_name": "Python 3",
      "language": "python",
      "name": "python3"
    },
    "language_info": {
      "codemirror_mode": {
        "name": "ipython",
        "version": 3
      },
      "file_extension": ".py",
      "mimetype": "text/x-python",
      "name": "python",
      "nbconvert_exporter": "python",
      "pygments_lexer": "ipython3",
      "version": "3.7.2"
    },
    "colab": {
      "name": "NeuralNetworks.ipynb",
      "provenance": []
    }
  },
  "nbformat": 4,
  "nbformat_minor": 0
}