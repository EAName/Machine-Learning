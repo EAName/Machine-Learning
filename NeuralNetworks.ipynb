{
  "cells": [
    {
      "cell_type": "markdown",
      "metadata": {
        "id": "E-VMtFPXiAg6"
      },
      "source": [
        "# Import Python Libraries"
      ]
    },
    {
      "cell_type": "code",
      "execution_count": 1,
      "metadata": {
        "id": "V2I3ikW7iAg7"
      },
      "outputs": [],
      "source": [
        "import numpy as np\n",
        "import time\n",
        "import random"
      ]
    },
    {
      "cell_type": "code",
      "execution_count": 2,
      "metadata": {
        "id": "MVntKTgXiAg8"
      },
      "outputs": [],
      "source": [
        "from sklearn.ensemble import RandomForestClassifier \n",
        "import sklearn.metrics as metrics"
      ]
    },
    {
      "cell_type": "code",
      "execution_count": 3,
      "metadata": {
        "colab": {
          "base_uri": "https://localhost:8080/"
        },
        "id": "b_hH_GXtiAg8",
        "outputId": "6df18a92-eafd-4574-b982-65d28dcdd8f3"
      },
      "outputs": [
        {
          "output_type": "stream",
          "name": "stdout",
          "text": [
            "2.8.2\n"
          ]
        }
      ],
      "source": [
        "import tensorflow as tf\n",
        "import matplotlib.pyplot as plt\n",
        "\n",
        "print( tf.__version__ )"
      ]
    },
    {
      "cell_type": "raw",
      "metadata": {
        "id": "B5DAgov0iAg8"
      },
      "source": [
        ""
      ]
    },
    {
      "cell_type": "markdown",
      "metadata": {
        "id": "4Ld8xhvYiAg8"
      },
      "source": [
        "# FASHION data"
      ]
    },
    {
      "cell_type": "raw",
      "metadata": {
        "id": "0eScyu50iAg9"
      },
      "source": [
        "Label   Class\n",
        "0       T-shirt/top\n",
        "1       Trouser\n",
        "2       Pullover\n",
        "3       Dress\n",
        "4       Coat\n",
        "5       Sandal\n",
        "6       Shirt\n",
        "7       Sneaker\n",
        "8       Bag\n",
        "9       Ankle boot\n"
      ]
    },
    {
      "cell_type": "code",
      "execution_count": 4,
      "metadata": {
        "id": "zx5CX8A6iAg9"
      },
      "outputs": [],
      "source": [
        "# Loan in Fashion Data\n",
        "#mnist = tf.keras.datasets.fashion_mnist # 28x28 Fashion Image Data\n",
        "\n",
        "#class_names = ['T-shirt/top', 'Trouser', 'Pullover', 'Dress', 'Coat', \n",
        "#               'Sandal', 'Shirt', 'Sneaker', 'Bag', 'Ankle boot' ]\n"
      ]
    },
    {
      "cell_type": "markdown",
      "metadata": {
        "id": "s5Xsin4RiAg9"
      },
      "source": [
        "# NUMBER data"
      ]
    },
    {
      "cell_type": "code",
      "execution_count": 5,
      "metadata": {
        "id": "VDWTYSMDiAg9"
      },
      "outputs": [],
      "source": [
        "#Load in Data\n",
        "mnist = tf.keras.datasets.mnist # 28x28 Handwritten Digits 0-9"
      ]
    },
    {
      "cell_type": "code",
      "execution_count": 6,
      "metadata": {
        "colab": {
          "base_uri": "https://localhost:8080/"
        },
        "id": "52jFnoZViAg9",
        "outputId": "8c9b7f14-9ef8-49a3-ad5f-615593d1fd39"
      },
      "outputs": [
        {
          "output_type": "stream",
          "name": "stdout",
          "text": [
            "Downloading data from https://storage.googleapis.com/tensorflow/tf-keras-datasets/mnist.npz\n",
            "11493376/11490434 [==============================] - 0s 0us/step\n",
            "11501568/11490434 [==============================] - 0s 0us/step\n"
          ]
        }
      ],
      "source": [
        "\n",
        "\n",
        "(x_train, y_train), (x_test, y_test) = mnist.load_data()\n",
        "\n",
        "# Normalize the Data\n",
        "#x_train = tf.keras.utils.normalize( x_train, axis=1 )\n",
        "#x_test = tf.keras.utils.normalize( x_test, axis=1 )\n",
        "\n",
        "x_train = x_train / 255 \n",
        "x_test = x_test / 255 \n",
        "\n"
      ]
    },
    {
      "cell_type": "code",
      "execution_count": 7,
      "metadata": {
        "colab": {
          "base_uri": "https://localhost:8080/"
        },
        "id": "BbIUhXc-iAg-",
        "outputId": "f52a1059-b97d-4862-b035-60f369fe11bd"
      },
      "outputs": [
        {
          "output_type": "stream",
          "name": "stdout",
          "text": [
            "<class 'numpy.ndarray'>\n",
            "(60000, 28, 28)\n",
            "<class 'numpy.ndarray'>\n",
            "(60000,)\n"
          ]
        }
      ],
      "source": [
        "\n",
        "print( type( x_train ) )\n",
        "print( x_train.shape )\n",
        "\n",
        "print( type( y_train ) )\n",
        "print( y_train.shape )\n"
      ]
    },
    {
      "cell_type": "code",
      "execution_count": 8,
      "metadata": {
        "colab": {
          "base_uri": "https://localhost:8080/"
        },
        "id": "c0P6Z6q1iAg-",
        "outputId": "ccb0f1ca-6c86-4dea-f461-3cb5f9fb3da4"
      },
      "outputs": [
        {
          "output_type": "stream",
          "name": "stdout",
          "text": [
            "Shape =  (28, 28)\n",
            "TOTAL SIZE =  784\n"
          ]
        }
      ],
      "source": [
        "INPUT_SHAPE = x_train[0].shape\n",
        "print(\"Shape = \", INPUT_SHAPE )\n",
        "\n",
        "TOTAL_SIZE = INPUT_SHAPE[0] * INPUT_SHAPE[1]\n",
        "print(\"TOTAL SIZE = \", TOTAL_SIZE)\n"
      ]
    },
    {
      "cell_type": "code",
      "execution_count": 9,
      "metadata": {
        "id": "5QgEI4DUiAg-"
      },
      "outputs": [],
      "source": [
        "def getRandomIndex( DATA ) :\n",
        "    return random.randint(0, DATA.shape[0] )"
      ]
    },
    {
      "cell_type": "code",
      "execution_count": 10,
      "metadata": {
        "scrolled": true,
        "colab": {
          "base_uri": "https://localhost:8080/",
          "height": 316
        },
        "id": "1dwIK--7iAg_",
        "outputId": "144de1b2-d6e2-49cc-8682-2ffeecd7d89a"
      },
      "outputs": [
        {
          "output_type": "stream",
          "name": "stdout",
          "text": [
            "who= 54108\n",
            "0\n"
          ]
        },
        {
          "output_type": "execute_result",
          "data": {
            "text/plain": [
              "<matplotlib.image.AxesImage at 0x7f51303ce590>"
            ]
          },
          "metadata": {},
          "execution_count": 10
        },
        {
          "output_type": "display_data",
          "data": {
            "text/plain": [
              "<Figure size 432x288 with 1 Axes>"
            ],
            "image/png": "[encoded data removed]"
          },
          "metadata": {
            "needs_background": "light"
          }
        }
      ],
      "source": [
        "\n",
        "who=0\n",
        "who=getRandomIndex( x_train )\n",
        "\n",
        "print(\"who=\", who)\n",
        "\n",
        "print( y_train[who])\n",
        "#print( x_train[who])\n",
        "plt.imshow(x_train[who], plt.cm.binary) \n",
        "#plt.imshow(x_train[who] ) \n"
      ]
    },
    {
      "cell_type": "raw",
      "metadata": {
        "id": "-rf76LgCiAg_"
      },
      "source": [
        ""
      ]
    },
    {
      "cell_type": "markdown",
      "metadata": {
        "id": "r7ZsbhJgiAhA"
      },
      "source": [
        "# SOLVE USING RANDOM FORESTS"
      ]
    },
    {
      "cell_type": "code",
      "execution_count": 11,
      "metadata": {
        "colab": {
          "base_uri": "https://localhost:8080/"
        },
        "id": "gD2spqL8iAhA",
        "outputId": "df5558d2-e9fc-4fa1-b0a6-e2f4ba591afe"
      },
      "outputs": [
        {
          "output_type": "stream",
          "name": "stdout",
          "text": [
            "(60000, 28, 28)\n",
            "(60000, 784)\n"
          ]
        }
      ],
      "source": [
        "new_x_train = []\n",
        "for i in x_train :\n",
        "    new_x_train.append( i.flatten() )\n",
        "new_x_train = np.array( new_x_train )\n",
        "\n",
        "new_x_test = []\n",
        "for i in x_test :\n",
        "    new_x_test.append( i.flatten() )\n",
        "new_x_test = np.array( new_x_test )\n",
        "\n",
        "print( x_train.shape )\n",
        "print( new_x_train.shape )"
      ]
    },
    {
      "cell_type": "code",
      "execution_count": 12,
      "metadata": {
        "colab": {
          "base_uri": "https://localhost:8080/"
        },
        "id": "vki1TN_JiAhA",
        "outputId": "63244b51-508d-4ecb-f507-16913c2a03a3"
      },
      "outputs": [
        {
          "output_type": "stream",
          "name": "stdout",
          "text": [
            "Execution Time =  743.0085361003876\n"
          ]
        }
      ],
      "source": [
        "\n",
        "start_time = time.time()\n",
        "\n",
        "theTrees = int( 2*TOTAL_SIZE )\n",
        "\n",
        "clf = RandomForestClassifier( n_estimators = theTrees )\n",
        "clf.fit( new_x_train, y_train )\n",
        "\n",
        "print(\"Execution Time = \", (time.time()-start_time) )\n"
      ]
    },
    {
      "cell_type": "code",
      "execution_count": 13,
      "metadata": {
        "colab": {
          "base_uri": "https://localhost:8080/"
        },
        "id": "SDLiiJw8iAhA",
        "outputId": "bab4047e-86f6-4375-9e6e-9391d8692d4b"
      },
      "outputs": [
        {
          "output_type": "stream",
          "name": "stdout",
          "text": [
            "5\n",
            "train accuracy 1.0\n",
            "7\n",
            "test accuracy 0.9721\n"
          ]
        }
      ],
      "source": [
        "pred_train = clf.predict( new_x_train )\n",
        "print( pred_train[0] )\n",
        "RF_acc_train = metrics.accuracy_score(y_train, pred_train )\n",
        "print( \"train accuracy\", RF_acc_train )\n",
        "\n",
        "pred_test = clf.predict( new_x_test )\n",
        "print( pred_test[0] )\n",
        "RF_acc = metrics.accuracy_score(y_test, pred_test )\n",
        "print( \"test accuracy\", RF_acc )\n"
      ]
    },
    {
      "cell_type": "raw",
      "metadata": {
        "id": "VjJaCslriAhB"
      },
      "source": [
        ""
      ]
    },
    {
      "cell_type": "markdown",
      "metadata": {
        "id": "ED00NeCoiAhB"
      },
      "source": [
        "# SOLVE USING TENSOR FLOW NEURAL NETWORKS"
      ]
    },
    {
      "cell_type": "code",
      "execution_count": 14,
      "metadata": {
        "id": "WJ1LN07YiAhB"
      },
      "outputs": [],
      "source": [
        "theEpochs = 2\n",
        "\n",
        "theActivation = tf.keras.activations.relu\n",
        "\n",
        "\n",
        "units_01 = int( 2*TOTAL_SIZE )\n",
        "units_02 = units_01\n",
        "\n",
        "DENSE_LAYER_01 = tf.keras.layers.Dense( units=units_01, activation=theActivation )\n",
        "DENSE_LAYER_02 = tf.keras.layers.Dense( units=units_02, activation=theActivation )\n",
        "DENSE_LAYER_XX = tf.keras.layers.Dense(10, activation=tf.nn.softmax )\n",
        "\n",
        "DROPOUT_LAYER = tf.keras.layers.Dropout( 0.2 )\n",
        "\n",
        "\n",
        "theOptimizer = tf.keras.optimizers.Adam()\n",
        "theLossMetric = tf.keras.losses.SparseCategoricalCrossentropy()\n",
        "\n",
        "theSplit = 0.2\n",
        "theBatchSize = 32\n",
        "verboseFlag = True\n",
        "\n",
        "theTensorFlowSaveFile = \"TF_Number_Model\""
      ]
    },
    {
      "cell_type": "code",
      "execution_count": 15,
      "metadata": {
        "scrolled": false,
        "colab": {
          "base_uri": "https://localhost:8080/"
        },
        "id": "Nx7NWj3piAhC",
        "outputId": "d85afa62-763b-438d-dc5f-808ee6880cc4"
      },
      "outputs": [
        {
          "output_type": "stream",
          "name": "stdout",
          "text": [
            "Epoch 1/2\n",
            "1500/1500 [==============================] - 53s 35ms/step - loss: 0.2148 - accuracy: 0.9345 - val_loss: 0.1181 - val_accuracy: 0.9653\n",
            "Epoch 2/2\n",
            "1500/1500 [==============================] - 53s 35ms/step - loss: 0.1088 - accuracy: 0.9670 - val_loss: 0.1118 - val_accuracy: 0.9678\n",
            "Execution Time =  106.1865451335907\n"
          ]
        }
      ],
      "source": [
        "\n",
        "# Build the Model\n",
        "\n",
        "start_time = time.time()\n",
        "\n",
        "model = tf.keras.models.Sequential()\n",
        "model.add( tf.keras.layers.Flatten( input_shape=INPUT_SHAPE ) )\n",
        "model.add( DENSE_LAYER_01 )\n",
        "model.add( DROPOUT_LAYER )\n",
        "model.add( DENSE_LAYER_02 )\n",
        "model.add( DENSE_LAYER_XX )\n",
        "#model.compile( optimizer=theOptimizer, loss=theLossMetric )\n",
        "model.compile( optimizer=theOptimizer, loss=theLossMetric, metrics=['accuracy'] )\n",
        "#model.fit(x_train, y_train, epochs=theEpochs, verbose = verboseFlag )\n",
        "model.fit(x_train, y_train, epochs=theEpochs, validation_split=theSplit, batch_size=theBatchSize, verbose = verboseFlag )\n",
        "\n",
        "\n",
        "print(\"Execution Time = \", (time.time()-start_time) )\n",
        "\n",
        "\n"
      ]
    },
    {
      "cell_type": "code",
      "execution_count": 18,
      "metadata": {
        "colab": {
          "base_uri": "https://localhost:8080/"
        },
        "id": "G4APIMrMiAhC",
        "outputId": "571f3e58-9c90-43eb-92da-5f91528015b8"
      },
      "outputs": [
        {
          "output_type": "stream",
          "name": "stdout",
          "text": [
            "WHO =  2059  Predicte = 7  Actual =  7\n",
            "WHO =  200  Predicte = 3  Actual =  3\n",
            "WHO =  7511  Predicte = 5  Actual =  5\n",
            "WHO =  7648  Predicte = 7  Actual =  7\n",
            "WHO =  4822  Predicte = 8  Actual =  8\n",
            " --------- \n",
            "accuracy =  0.9696\n"
          ]
        }
      ],
      "source": [
        "probs = model.predict( x_test )\n",
        "\n",
        "pred_list = []\n",
        "for p in probs :\n",
        "    pred_list.append( np.argmax( p ) )\n",
        "pred = np.array( pred_list )\n",
        "acc_score = metrics.accuracy_score( y_test, pred)\n",
        "\n",
        "for i in range(5) :\n",
        "    who = getRandomIndex( x_test )\n",
        "    print(\"WHO = \", who, \" Predicte =\", pred[who], \" Actual = \", y_test[who] )\n",
        "\n",
        "print(\" --------- \")\n",
        "print(\"accuracy = \", acc_score)\n"
      ]
    },
    {
      "cell_type": "code",
      "execution_count": 19,
      "metadata": {
        "colab": {
          "base_uri": "https://localhost:8080/"
        },
        "id": "A8BOgS3ziAhC",
        "outputId": "223ae252-53eb-42d5-f964-20280cdd3287"
      },
      "outputs": [
        {
          "output_type": "stream",
          "name": "stdout",
          "text": [
            "313/313 [==============================] - 3s 10ms/step - loss: 0.0987 - accuracy: 0.9696\n",
            "loss= 0.09870584309101105\n",
            "accuracy 0.9696000218391418\n"
          ]
        }
      ],
      "source": [
        "NN_loss, NN_acc = model.evaluate( x_test, y_test )\n",
        "print(\"loss=\",NN_loss)\n",
        "print(\"accuracy\",NN_acc)"
      ]
    },
    {
      "cell_type": "code",
      "execution_count": 20,
      "metadata": {
        "colab": {
          "base_uri": "https://localhost:8080/"
        },
        "id": "3-G_enuCiAhC",
        "outputId": "8431f00d-eeea-4c3d-ec87-b9cbd34a79d9"
      },
      "outputs": [
        {
          "output_type": "stream",
          "name": "stdout",
          "text": [
            "INFO:tensorflow:Assets written to: TF_Number_Model/assets\n"
          ]
        }
      ],
      "source": [
        "model.save( theTensorFlowSaveFile )"
      ]
    },
    {
      "cell_type": "code",
      "execution_count": 21,
      "metadata": {
        "id": "-gQbzrmViAhD"
      },
      "outputs": [],
      "source": [
        "new_model= tf.keras.models.load_model( theTensorFlowSaveFile )"
      ]
    },
    {
      "cell_type": "code",
      "execution_count": 22,
      "metadata": {
        "id": "AcUdEx05iAhD"
      },
      "outputs": [],
      "source": [
        "predictions = new_model.predict( x_test ) "
      ]
    },
    {
      "cell_type": "code",
      "execution_count": 23,
      "metadata": {
        "colab": {
          "base_uri": "https://localhost:8080/",
          "height": 333
        },
        "id": "65_2H69AiAhD",
        "outputId": "356c6d75-3f41-427d-bc26-47f57c00776b"
      },
      "outputs": [
        {
          "output_type": "stream",
          "name": "stdout",
          "text": [
            "[3.1172005e-09 3.1573145e-06 9.9998653e-01 5.3248851e-07 3.9957239e-12\n",
            " 9.4463319e-11 3.5080567e-11 8.7599446e-06 1.0265276e-06 5.2220259e-11]\n",
            "predict= 2 actual= 2\n"
          ]
        },
        {
          "output_type": "execute_result",
          "data": {
            "text/plain": [
              "<matplotlib.image.AxesImage at 0x7f512b68e250>"
            ]
          },
          "metadata": {},
          "execution_count": 23
        },
        {
          "output_type": "display_data",
          "data": {
            "text/plain": [
              "<Figure size 432x288 with 1 Axes>"
            ],
            "image/png": "[encoded data removed]"
          },
          "metadata": {
            "needs_background": "light"
          }
        }
      ],
      "source": [
        "who=getRandomIndex( x_test )\n",
        "print( predictions[who]) # probability score\n",
        "result = np.argmax( list(predictions[who]) )\n",
        "print(\"predict=\",result,\"actual=\",y_test[who])\n",
        "plt.imshow( x_test[who], plt.cm.binary )\n",
        "#plt.show()"
      ]
    },
    {
      "cell_type": "raw",
      "metadata": {
        "id": "K8-LiHIwiAhD"
      },
      "source": [
        ""
      ]
    },
    {
      "cell_type": "markdown",
      "metadata": {
        "id": "es0GVreUiAhD"
      },
      "source": [
        "# Accuracy of RANDOM FOREST and NEURAL NETWORK"
      ]
    },
    {
      "cell_type": "code",
      "execution_count": 24,
      "metadata": {
        "colab": {
          "base_uri": "https://localhost:8080/"
        },
        "id": "M6O-VK8NiAhD",
        "outputId": "4b82f775-bf0a-4872-fe61-e3ec3ed327ca"
      },
      "outputs": [
        {
          "output_type": "stream",
          "name": "stdout",
          "text": [
            "RF accuracy 0.9721\n",
            "NN accuracy 0.9696000218391418\n"
          ]
        }
      ],
      "source": [
        "print(\"RF accuracy\", RF_acc )\n",
        "print(\"NN accuracy\",NN_acc)"
      ]
    },
    {
      "cell_type": "code",
      "execution_count": null,
      "metadata": {
        "id": "LoLTPdP4iAhD"
      },
      "outputs": [],
      "source": [
        ""
      ]
    }
  ],
  "metadata": {
    "kernelspec": {
      "display_name": "Python 3",
      "language": "python",
      "name": "python3"
    },
    "language_info": {
      "codemirror_mode": {
        "name": "ipython",
        "version": 3
      },
      "file_extension": ".py",
      "mimetype": "text/x-python",
      "name": "python",
      "nbconvert_exporter": "python",
      "pygments_lexer": "ipython3",
      "version": "3.7.2"
    },
    "colab": {
      "name": "NeuralNetworks.ipynb",
      "provenance": []
    }
  },
  "nbformat": 4,
  "nbformat_minor": 0
}