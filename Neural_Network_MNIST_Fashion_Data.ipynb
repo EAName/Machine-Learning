{
 "cells": [
  {
   "cell_type": "markdown",
   "metadata": {},
   "source": [
    "# Import Python Libraries"
   ]
  },
  {
   "cell_type": "code",
   "execution_count": 1,
   "metadata": {},
   "outputs": [],
   "source": [
    "import numpy as np\n",
    "import time\n",
    "import random"
   ]
  },
  {
   "cell_type": "code",
   "execution_count": 2,
   "metadata": {},
   "outputs": [],
   "source": [
    "from sklearn.ensemble import RandomForestClassifier \n",
    "import sklearn.metrics as metrics"
   ]
  },
  {
   "cell_type": "code",
   "execution_count": 3,
   "metadata": {},
   "outputs": [
    {
     "name": "stdout",
     "output_type": "stream",
     "text": [
      "2.8.1\n"
     ]
    }
   ],
   "source": [
    "import tensorflow as tf\n",
    "import matplotlib.pyplot as plt\n",
    "\n",
    "print( tf.__version__ )"
   ]
  },
  {
   "cell_type": "raw",
   "metadata": {},
   "source": []
  },
  {
   "cell_type": "markdown",
   "metadata": {},
   "source": [
    "# FASHION data"
   ]
  },
  {
   "cell_type": "raw",
   "metadata": {},
   "source": [
    "Label   Class\n",
    "0       T-shirt/top\n",
    "1       Trouser\n",
    "2       Pullover\n",
    "3       Dress\n",
    "4       Coat\n",
    "5       Sandal\n",
    "6       Shirt\n",
    "7       Sneaker\n",
    "8       Bag\n",
    "9       Ankle boot\n"
   ]
  },
  {
   "cell_type": "code",
   "execution_count": 4,
   "metadata": {},
   "outputs": [],
   "source": [
    "#Load in Fashion Data\n",
    "mnist = tf.keras.datasets.fashion_mnist # 28x28 Fashion Image Data\n",
    "\n",
    "class_names = ['T-shirt/top', 'Trouser', 'Pullover', 'Dress', 'Coat', \n",
    "              'Sandal', 'Shirt', 'Sneaker', 'Bag', 'Ankle boot' ]\n"
   ]
  },
  {
   "cell_type": "markdown",
   "metadata": {},
   "source": [
    "# NUMBER data"
   ]
  },
  {
   "cell_type": "code",
   "execution_count": 5,
   "metadata": {},
   "outputs": [],
   "source": [
    "#Load in Data\n",
    "# mnist = tf.keras.datasets.mnist # 28x28 Handwritten Digits 0-9"
   ]
  },
  {
   "cell_type": "code",
   "execution_count": 6,
   "metadata": {},
   "outputs": [],
   "source": [
    "\n",
    "\n",
    "(x_train, y_train), (x_test, y_test) = mnist.load_data()\n",
    "\n",
    "# Normalize the Data\n",
    "# x_train = tf.keras.utils.normalize( x_train, axis=1 )\n",
    "# x_test = tf.keras.utils.normalize( x_test, axis=1 )\n",
    "\n",
    "# Divide training and testing sets by 255 \n",
    "x_train = x_train / 255 \n",
    "x_test = x_test / 255 \n",
    "\n"
   ]
  },
  {
   "cell_type": "code",
   "execution_count": 7,
   "metadata": {},
   "outputs": [
    {
     "name": "stdout",
     "output_type": "stream",
     "text": [
      "<class 'numpy.ndarray'>\n",
      "(60000, 28, 28)\n",
      "<class 'numpy.ndarray'>\n",
      "(60000,)\n"
     ]
    }
   ],
   "source": [
    "\n",
    "print( type( x_train ) )\n",
    "print( x_train.shape )\n",
    "\n",
    "print( type( y_train ) )\n",
    "print( y_train.shape )\n"
   ]
  },
  {
   "cell_type": "code",
   "execution_count": 8,
   "metadata": {},
   "outputs": [
    {
     "name": "stdout",
     "output_type": "stream",
     "text": [
      "Shape =  (28, 28)\n",
      "TOTAL SIZE =  784\n"
     ]
    }
   ],
   "source": [
    "INPUT_SHAPE = x_train[0].shape\n",
    "print(\"Shape = \", INPUT_SHAPE )\n",
    "\n",
    "TOTAL_SIZE = INPUT_SHAPE[0] * INPUT_SHAPE[1]\n",
    "print(\"TOTAL SIZE = \", TOTAL_SIZE)\n"
   ]
  },
  {
   "cell_type": "code",
   "execution_count": 9,
   "metadata": {},
   "outputs": [],
   "source": [
    "def getRandomIndex( DATA ) :\n",
    "    return random.randint(0, DATA.shape[0] )"
   ]
  },
  {
   "cell_type": "code",
   "execution_count": 10,
   "metadata": {
    "scrolled": true
   },
   "outputs": [
    {
     "name": "stdout",
     "output_type": "stream",
     "text": [
      "who= 293\n",
      "6\n",
      "[[0.         0.         0.         0.         0.         0.\n",
      "  0.         0.         0.         0.00392157 0.         0.07058824\n",
      "  0.58039216 0.20392157 0.06666667 0.27058824 0.20784314 0.\n",
      "  0.         0.00392157 0.00392157 0.         0.         0.\n",
      "  0.         0.         0.         0.        ]\n",
      " [0.         0.         0.         0.         0.         0.\n",
      "  0.         0.         0.         0.         0.         0.16470588\n",
      "  0.82352941 0.91372549 0.80392157 0.59215686 0.47058824 0.02745098\n",
      "  0.         0.         0.         0.         0.         0.\n",
      "  0.         0.         0.         0.        ]\n",
      " [0.         0.         0.         0.         0.         0.\n",
      "  0.         0.         0.06666667 0.16862745 0.25490196 0.15294118\n",
      "  0.30588235 0.90588235 0.76470588 0.31372549 0.49411765 0.50196078\n",
      "  0.32156863 0.18823529 0.07058824 0.         0.         0.\n",
      "  0.         0.         0.         0.        ]\n",
      " [0.         0.         0.         0.         0.         0.\n",
      "  0.03921569 0.2627451  0.28235294 0.26666667 0.23137255 0.14117647\n",
      "  0.21568627 0.28627451 0.23921569 0.4        0.45490196 0.34509804\n",
      "  0.38039216 0.44313725 0.45098039 0.38823529 0.         0.\n",
      "  0.         0.         0.         0.        ]\n",
      " [0.         0.         0.         0.         0.         0.\n",
      "  0.29803922 0.24705882 0.15294118 0.15686275 0.17254902 0.1372549\n",
      "  0.28235294 0.21960784 0.30588235 0.38823529 0.29019608 0.29803922\n",
      "  0.33333333 0.23921569 0.24705882 0.54901961 0.44705882 0.\n",
      "  0.         0.         0.         0.        ]\n",
      " [0.         0.         0.         0.         0.         0.10196078\n",
      "  0.25490196 0.18039216 0.18431373 0.17254902 0.16470588 0.17254902\n",
      "  0.14117647 0.24705882 0.29803922 0.2        0.24705882 0.28627451\n",
      "  0.21960784 0.30588235 0.38823529 0.34509804 0.61176471 0.07058824\n",
      "  0.         0.         0.         0.        ]\n",
      " [0.         0.         0.         0.         0.         0.17254902\n",
      "  0.21568627 0.25098039 0.18039216 0.16470588 0.18823529 0.17254902\n",
      "  0.16862745 0.23529412 0.23137255 0.20784314 0.21568627 0.28235294\n",
      "  0.3372549  0.30588235 0.2745098  0.33333333 0.51764706 0.2\n",
      "  0.         0.         0.         0.        ]\n",
      " [0.         0.         0.         0.         0.         0.14901961\n",
      "  0.2        0.3372549  0.18039216 0.1254902  0.18039216 0.16862745\n",
      "  0.18431373 0.23137255 0.26666667 0.21568627 0.27058824 0.37254902\n",
      "  0.30196078 0.30196078 0.40392157 0.46666667 0.49411765 0.28235294\n",
      "  0.         0.         0.         0.        ]\n",
      " [0.         0.         0.         0.         0.         0.16470588\n",
      "  0.14117647 0.49803922 0.41960784 0.08627451 0.16862745 0.15686275\n",
      "  0.19215686 0.26666667 0.24705882 0.20392157 0.24705882 0.25490196\n",
      "  0.3372549  0.32156863 0.62352941 0.44705882 0.40392157 0.29803922\n",
      "  0.         0.         0.         0.        ]\n",
      " [0.         0.         0.         0.         0.         0.22352941\n",
      "  0.11764706 0.38039216 0.90196078 0.05098039 0.15686275 0.18039216\n",
      "  0.21568627 0.25098039 0.23921569 0.21960784 0.2627451  0.29803922\n",
      "  0.34509804 0.25098039 0.74117647 0.41568627 0.40392157 0.32156863\n",
      "  0.         0.         0.         0.        ]\n",
      " [0.         0.         0.         0.         0.         0.23921569\n",
      "  0.14901961 0.18431373 0.88627451 0.05882353 0.15686275 0.18823529\n",
      "  0.23529412 0.23137255 0.23921569 0.22352941 0.28235294 0.28235294\n",
      "  0.30588235 0.22352941 0.87843137 0.36078431 0.31372549 0.36470588\n",
      "  0.         0.         0.         0.        ]\n",
      " [0.         0.         0.         0.         0.         0.23921569\n",
      "  0.20784314 0.10588235 0.79607843 0.10196078 0.16470588 0.16470588\n",
      "  0.24705882 0.24705882 0.21568627 0.21960784 0.27058824 0.31372549\n",
      "  0.28627451 0.2745098  1.         0.30196078 0.30588235 0.38431373\n",
      "  0.         0.         0.         0.        ]\n",
      " [0.         0.         0.         0.         0.00392157 0.22352941\n",
      "  0.21960784 0.14117647 0.5254902  0.13333333 0.16470588 0.16862745\n",
      "  0.24705882 0.25098039 0.23137255 0.20392157 0.25490196 0.29803922\n",
      "  0.25098039 0.23137255 0.92156863 0.30196078 0.29803922 0.36862745\n",
      "  0.         0.         0.         0.        ]\n",
      " [0.         0.         0.         0.         0.02745098 0.25098039\n",
      "  0.19215686 0.23921569 0.21568627 0.16470588 0.15686275 0.16862745\n",
      "  0.23529412 0.25098039 0.25490196 0.19215686 0.25098039 0.2745098\n",
      "  0.24705882 0.18823529 0.92941176 0.32156863 0.23529412 0.34509804\n",
      "  0.00392157 0.         0.         0.        ]\n",
      " [0.         0.         0.         0.         0.03921569 0.24705882\n",
      "  0.16862745 0.26666667 0.30588235 0.15686275 0.15686275 0.15686275\n",
      "  0.23921569 0.24705882 0.25098039 0.20784314 0.20784314 0.2745098\n",
      "  0.2627451  0.16470588 0.78039216 0.36470588 0.21568627 0.31372549\n",
      "  0.         0.         0.         0.        ]\n",
      " [0.         0.         0.         0.         0.05490196 0.25098039\n",
      "  0.19215686 0.30588235 0.33333333 0.14901961 0.16470588 0.18431373\n",
      "  0.20784314 0.21960784 0.22352941 0.22352941 0.18823529 0.27058824\n",
      "  0.23137255 0.23921569 0.22352941 0.45098039 0.21960784 0.31372549\n",
      "  0.01176471 0.         0.         0.        ]\n",
      " [0.         0.         0.         0.         0.05882353 0.23137255\n",
      "  0.22352941 0.31372549 0.27058824 0.1372549  0.16470588 0.2\n",
      "  0.18431373 0.21568627 0.21568627 0.21568627 0.2        0.23921569\n",
      "  0.21960784 0.23529412 0.31372549 0.43137255 0.2        0.32156863\n",
      "  0.03921569 0.         0.         0.        ]\n",
      " [0.         0.         0.         0.         0.05490196 0.2\n",
      "  0.24705882 0.32941176 0.21568627 0.10980392 0.17254902 0.16862745\n",
      "  0.19215686 0.23921569 0.21568627 0.18823529 0.2        0.21960784\n",
      "  0.21960784 0.25490196 0.19215686 0.30196078 0.38431373 0.2745098\n",
      "  0.03529412 0.         0.         0.        ]\n",
      " [0.         0.         0.         0.         0.06666667 0.18431373\n",
      "  0.28627451 0.36078431 0.15686275 0.1254902  0.16470588 0.15686275\n",
      "  0.2        0.24705882 0.21960784 0.17254902 0.18823529 0.20784314\n",
      "  0.2        0.2627451  0.07058824 0.42745098 0.43137255 0.20392157\n",
      "  0.05882353 0.         0.         0.        ]\n",
      " [0.         0.         0.         0.         0.05490196 0.14901961\n",
      "  0.32941176 0.3372549  0.00784314 0.18431373 0.14901961 0.15686275\n",
      "  0.22352941 0.21568627 0.23137255 0.2        0.17254902 0.20392157\n",
      "  0.2        0.23529412 0.0745098  0.45490196 0.32941176 0.2\n",
      "  0.09019608 0.         0.         0.        ]\n",
      " [0.         0.         0.         0.         0.08235294 0.11764706\n",
      "  0.38431373 0.28235294 0.00784314 0.20392157 0.13333333 0.17254902\n",
      "  0.20784314 0.17254902 0.22352941 0.20392157 0.18039216 0.16470588\n",
      "  0.15686275 0.23529412 0.0745098  0.44705882 0.33333333 0.16862745\n",
      "  0.10196078 0.         0.         0.        ]\n",
      " [0.         0.         0.         0.         0.08627451 0.10196078\n",
      "  0.39607843 0.30588235 0.05098039 0.18039216 0.13333333 0.2\n",
      "  0.14901961 0.22352941 0.2        0.17254902 0.20784314 0.2\n",
      "  0.16470588 0.21568627 0.0745098  0.43529412 0.38823529 0.1372549\n",
      "  0.10196078 0.         0.         0.        ]\n",
      " [0.         0.         0.         0.         0.08627451 0.08627451\n",
      "  0.42745098 0.20392157 0.05098039 0.15686275 0.18039216 0.14901961\n",
      "  0.15294118 0.27058824 0.19215686 0.17254902 0.16862745 0.18823529\n",
      "  0.17254902 0.20392157 0.05490196 0.30588235 0.46666667 0.1254902\n",
      "  0.10980392 0.         0.         0.        ]\n",
      " [0.         0.         0.         0.         0.09019608 0.09411765\n",
      "  0.56470588 0.12156863 0.03529412 0.18431373 0.16470588 0.10196078\n",
      "  0.30588235 0.23921569 0.18039216 0.18431373 0.15686275 0.16470588\n",
      "  0.15686275 0.19215686 0.07058824 0.3372549  0.43137255 0.11764706\n",
      "  0.12156863 0.         0.         0.        ]\n",
      " [0.         0.         0.         0.         0.10980392 0.13333333\n",
      "  0.39607843 0.16470588 0.03529412 0.15686275 0.10980392 0.17254902\n",
      "  0.27058824 0.14901961 0.20392157 0.18039216 0.17254902 0.17254902\n",
      "  0.16470588 0.17254902 0.09411765 0.30588235 0.41176471 0.10196078\n",
      "  0.1254902  0.         0.         0.        ]\n",
      " [0.         0.         0.         0.         0.11764706 0.10196078\n",
      "  0.39607843 0.23137255 0.05882353 0.15686275 0.14901961 0.18823529\n",
      "  0.18039216 0.15686275 0.19215686 0.18039216 0.17254902 0.16470588\n",
      "  0.14117647 0.20392157 0.05098039 0.30196078 0.49411765 0.10980392\n",
      "  0.17254902 0.         0.         0.        ]\n",
      " [0.         0.         0.         0.         0.1372549  0.1254902\n",
      "  0.43529412 0.22352941 0.         0.18823529 0.18823529 0.25490196\n",
      "  0.27058824 0.16862745 0.20392157 0.19215686 0.18431373 0.20392157\n",
      "  0.19215686 0.18039216 0.         0.29803922 0.47843137 0.1372549\n",
      "  0.14901961 0.         0.         0.        ]\n",
      " [0.         0.         0.         0.         0.         0.\n",
      "  0.         0.         0.         0.         0.04313725 0.10196078\n",
      "  0.12156863 0.10588235 0.15294118 0.1372549  0.13333333 0.09019608\n",
      "  0.02745098 0.         0.         0.         0.         0.\n",
      "  0.         0.         0.         0.        ]]\n"
     ]
    },
    {
     "data": {
      "text/plain": [
       "<matplotlib.image.AxesImage at 0x10f2cb040>"
      ]
     },
     "execution_count": 10,
     "metadata": {},
     "output_type": "execute_result"
    },
    {
     "data": {
      "image/png": "[encoded data removed]",
      "text/plain": [
       "<Figure size 432x288 with 1 Axes>"
      ]
     },
     "metadata": {
      "needs_background": "light"
     },
     "output_type": "display_data"
    }
   ],
   "source": [
    "\n",
    "who=0\n",
    "who=getRandomIndex( x_train )\n",
    "\n",
    "print(\"who=\", who)\n",
    "\n",
    "print( y_train[who])\n",
    "print( x_train[who])\n",
    "plt.imshow(x_train[who], plt.cm.binary) \n",
    "plt.imshow(x_train[who] ) \n"
   ]
  },
  {
   "cell_type": "raw",
   "metadata": {},
   "source": []
  },
  {
   "cell_type": "markdown",
   "metadata": {},
   "source": [
    "# SOLVE USING RANDOM FORESTS"
   ]
  },
  {
   "cell_type": "code",
   "execution_count": 11,
   "metadata": {},
   "outputs": [
    {
     "name": "stdout",
     "output_type": "stream",
     "text": [
      "(60000, 28, 28)\n",
      "(60000, 784)\n"
     ]
    }
   ],
   "source": [
    "new_x_train = []\n",
    "for i in x_train :\n",
    "    new_x_train.append( i.flatten() )\n",
    "new_x_train = np.array( new_x_train )\n",
    "\n",
    "new_x_test = []\n",
    "for i in x_test :\n",
    "    new_x_test.append( i.flatten() )\n",
    "new_x_test = np.array( new_x_test )\n",
    "\n",
    "print( x_train.shape )\n",
    "print( new_x_train.shape )"
   ]
  },
  {
   "cell_type": "code",
   "execution_count": 12,
   "metadata": {},
   "outputs": [
    {
     "name": "stdout",
     "output_type": "stream",
     "text": [
      "Execution Time =  873.5348052978516\n"
     ]
    }
   ],
   "source": [
    "\n",
    "start_time = time.time()\n",
    "\n",
    "theTrees = int( 2*TOTAL_SIZE )\n",
    "\n",
    "clf = RandomForestClassifier( n_estimators = theTrees )\n",
    "clf.fit( new_x_train, y_train )\n",
    "\n",
    "print(\"Execution Time = \", (time.time()-start_time) )\n"
   ]
  },
  {
   "cell_type": "code",
   "execution_count": 13,
   "metadata": {},
   "outputs": [
    {
     "name": "stdout",
     "output_type": "stream",
     "text": [
      "9\n",
      "train accuracy 1.0\n",
      "9\n",
      "test accuracy 0.8781\n"
     ]
    }
   ],
   "source": [
    "pred_train = clf.predict( new_x_train )\n",
    "print( pred_train[0] )\n",
    "RF_acc_train = metrics.accuracy_score(y_train, pred_train )\n",
    "print( \"train accuracy\", RF_acc_train )\n",
    "\n",
    "pred_test = clf.predict( new_x_test )\n",
    "print( pred_test[0] )\n",
    "RF_acc = metrics.accuracy_score(y_test, pred_test )\n",
    "print( \"test accuracy\", RF_acc )\n"
   ]
  },
  {
   "cell_type": "raw",
   "metadata": {},
   "source": []
  },
  {
   "cell_type": "markdown",
   "metadata": {},
   "source": [
    "# SOLVE USING TENSOR FLOW NEURAL NETWORKS"
   ]
  },
  {
   "cell_type": "code",
   "execution_count": 32,
   "metadata": {},
   "outputs": [],
   "source": [
    "theEpochs = 50\n",
    "\n",
    "theActivation = tf.keras.activations.relu\n",
    "\n",
    "\n",
    "units_01 = int( 2*TOTAL_SIZE )\n",
    "units_02 = units_01\n",
    "\n",
    "DENSE_LAYER_01 = tf.keras.layers.Dense( units=units_01, activation=theActivation )\n",
    "DENSE_LAYER_02 = tf.keras.layers.Dense( units=units_02, activation=theActivation )\n",
    "DENSE_LAYER_XX = tf.keras.layers.Dense(10, activation=tf.nn.softmax )\n",
    "\n",
    "DROPOUT_LAYER = tf.keras.layers.Dropout( 0.2 )\n",
    "\n",
    "\n",
    "theOptimizer = tf.keras.optimizers.Adam()\n",
    "theLossMetric = tf.keras.losses.SparseCategoricalCrossentropy()\n",
    "\n",
    "theSplit = 0.3\n",
    "theBatchSize = 32\n",
    "verboseFlag = True\n",
    "\n",
    "theTensorFlowSaveFile = \"TF_Number_Model\""
   ]
  },
  {
   "cell_type": "code",
   "execution_count": 33,
   "metadata": {
    "scrolled": false,
    "slideshow": {
     "slide_type": "slide"
    }
   },
   "outputs": [
    {
     "name": "stdout",
     "output_type": "stream",
     "text": [
      "Epoch 1/50\n",
      "1313/1313 [==============================] - 14s 11ms/step - loss: 0.5249 - accuracy: 0.8088 - val_loss: 0.4330 - val_accuracy: 0.8384\n",
      "Epoch 2/50\n",
      "1313/1313 [==============================] - 14s 11ms/step - loss: 0.4050 - accuracy: 0.8515 - val_loss: 0.3842 - val_accuracy: 0.8583\n",
      "Epoch 3/50\n",
      "1313/1313 [==============================] - 14s 11ms/step - loss: 0.3710 - accuracy: 0.8615 - val_loss: 0.3564 - val_accuracy: 0.8711\n",
      "Epoch 4/50\n",
      "1313/1313 [==============================] - 14s 11ms/step - loss: 0.3459 - accuracy: 0.8714 - val_loss: 0.3365 - val_accuracy: 0.8762\n",
      "Epoch 5/50\n",
      "1313/1313 [==============================] - 14s 11ms/step - loss: 0.3305 - accuracy: 0.8760 - val_loss: 0.3298 - val_accuracy: 0.8805\n",
      "Epoch 6/50\n",
      "1313/1313 [==============================] - 14s 11ms/step - loss: 0.3147 - accuracy: 0.8828 - val_loss: 0.3346 - val_accuracy: 0.8809\n",
      "Epoch 7/50\n",
      "1313/1313 [==============================] - 14s 11ms/step - loss: 0.3063 - accuracy: 0.8850 - val_loss: 0.3244 - val_accuracy: 0.8862\n",
      "Epoch 8/50\n",
      "1313/1313 [==============================] - 14s 11ms/step - loss: 0.2969 - accuracy: 0.8884 - val_loss: 0.3768 - val_accuracy: 0.8689\n",
      "Epoch 9/50\n",
      "1313/1313 [==============================] - 14s 11ms/step - loss: 0.2828 - accuracy: 0.8940 - val_loss: 0.3417 - val_accuracy: 0.8756\n",
      "Epoch 10/50\n",
      "1313/1313 [==============================] - 14s 11ms/step - loss: 0.2809 - accuracy: 0.8948 - val_loss: 0.3346 - val_accuracy: 0.8849\n",
      "Epoch 11/50\n",
      "1313/1313 [==============================] - 14s 11ms/step - loss: 0.2710 - accuracy: 0.8978 - val_loss: 0.3177 - val_accuracy: 0.8876\n",
      "Epoch 12/50\n",
      "1313/1313 [==============================] - 14s 11ms/step - loss: 0.2682 - accuracy: 0.8992 - val_loss: 0.3226 - val_accuracy: 0.8898\n",
      "Epoch 13/50\n",
      "1313/1313 [==============================] - 14s 11ms/step - loss: 0.2573 - accuracy: 0.9032 - val_loss: 0.3283 - val_accuracy: 0.8906\n",
      "Epoch 14/50\n",
      "1313/1313 [==============================] - 14s 11ms/step - loss: 0.2535 - accuracy: 0.9039 - val_loss: 0.3484 - val_accuracy: 0.8804\n",
      "Epoch 15/50\n",
      "1313/1313 [==============================] - 14s 11ms/step - loss: 0.2482 - accuracy: 0.9072 - val_loss: 0.3330 - val_accuracy: 0.8918\n",
      "Epoch 16/50\n",
      "1313/1313 [==============================] - 14s 11ms/step - loss: 0.2448 - accuracy: 0.9064 - val_loss: 0.3404 - val_accuracy: 0.8861\n",
      "Epoch 17/50\n",
      "1313/1313 [==============================] - 14s 11ms/step - loss: 0.2375 - accuracy: 0.9100 - val_loss: 0.3261 - val_accuracy: 0.8949\n",
      "Epoch 18/50\n",
      "1313/1313 [==============================] - 14s 11ms/step - loss: 0.2319 - accuracy: 0.9125 - val_loss: 0.3335 - val_accuracy: 0.8913\n",
      "Epoch 19/50\n",
      "1313/1313 [==============================] - 15s 11ms/step - loss: 0.2294 - accuracy: 0.9124 - val_loss: 0.3313 - val_accuracy: 0.8924\n",
      "Epoch 20/50\n",
      "1313/1313 [==============================] - 14s 11ms/step - loss: 0.2272 - accuracy: 0.9143 - val_loss: 0.3216 - val_accuracy: 0.8979\n",
      "Epoch 21/50\n",
      "1313/1313 [==============================] - 14s 11ms/step - loss: 0.2269 - accuracy: 0.9153 - val_loss: 0.3439 - val_accuracy: 0.8854\n",
      "Epoch 22/50\n",
      "1313/1313 [==============================] - 14s 11ms/step - loss: 0.2253 - accuracy: 0.9175 - val_loss: 0.3342 - val_accuracy: 0.8898\n",
      "Epoch 23/50\n",
      "1313/1313 [==============================] - 14s 11ms/step - loss: 0.2150 - accuracy: 0.9182 - val_loss: 0.3392 - val_accuracy: 0.8921\n",
      "Epoch 24/50\n",
      "1313/1313 [==============================] - 14s 11ms/step - loss: 0.2118 - accuracy: 0.9204 - val_loss: 0.3460 - val_accuracy: 0.8908\n",
      "Epoch 25/50\n",
      "1313/1313 [==============================] - 14s 11ms/step - loss: 0.2086 - accuracy: 0.9201 - val_loss: 0.3514 - val_accuracy: 0.8934\n",
      "Epoch 26/50\n",
      "1313/1313 [==============================] - 14s 11ms/step - loss: 0.2055 - accuracy: 0.9234 - val_loss: 0.3516 - val_accuracy: 0.8891\n",
      "Epoch 27/50\n",
      "1313/1313 [==============================] - 14s 11ms/step - loss: 0.2049 - accuracy: 0.9228 - val_loss: 0.3495 - val_accuracy: 0.8987\n",
      "Epoch 28/50\n",
      "1313/1313 [==============================] - 14s 10ms/step - loss: 0.2019 - accuracy: 0.9235 - val_loss: 0.3631 - val_accuracy: 0.8941\n",
      "Epoch 29/50\n",
      "1313/1313 [==============================] - 14s 11ms/step - loss: 0.2005 - accuracy: 0.9247 - val_loss: 0.3437 - val_accuracy: 0.8949\n",
      "Epoch 30/50\n",
      "1313/1313 [==============================] - 15s 11ms/step - loss: 0.1955 - accuracy: 0.9253 - val_loss: 0.3629 - val_accuracy: 0.8904\n",
      "Epoch 31/50\n",
      "1313/1313 [==============================] - 14s 11ms/step - loss: 0.1966 - accuracy: 0.9269 - val_loss: 0.3651 - val_accuracy: 0.8934\n",
      "Epoch 32/50\n",
      "1313/1313 [==============================] - 14s 11ms/step - loss: 0.1933 - accuracy: 0.9280 - val_loss: 0.3842 - val_accuracy: 0.8937\n",
      "Epoch 33/50\n",
      "1313/1313 [==============================] - 14s 11ms/step - loss: 0.1914 - accuracy: 0.9286 - val_loss: 0.3800 - val_accuracy: 0.8964\n",
      "Epoch 34/50\n",
      "1313/1313 [==============================] - 14s 11ms/step - loss: 0.1829 - accuracy: 0.9303 - val_loss: 0.3798 - val_accuracy: 0.8935\n",
      "Epoch 35/50\n",
      "1313/1313 [==============================] - 14s 11ms/step - loss: 0.1856 - accuracy: 0.9296 - val_loss: 0.4094 - val_accuracy: 0.8892\n",
      "Epoch 36/50\n",
      "1313/1313 [==============================] - 14s 11ms/step - loss: 0.1875 - accuracy: 0.9312 - val_loss: 0.3657 - val_accuracy: 0.8939\n",
      "Epoch 37/50\n",
      "1313/1313 [==============================] - 14s 11ms/step - loss: 0.1788 - accuracy: 0.9337 - val_loss: 0.3865 - val_accuracy: 0.8940\n",
      "Epoch 38/50\n",
      "1313/1313 [==============================] - 14s 11ms/step - loss: 0.1764 - accuracy: 0.9333 - val_loss: 0.3868 - val_accuracy: 0.8916\n",
      "Epoch 39/50\n",
      "1313/1313 [==============================] - 14s 11ms/step - loss: 0.1801 - accuracy: 0.9331 - val_loss: 0.3973 - val_accuracy: 0.8950\n",
      "Epoch 40/50\n",
      "1313/1313 [==============================] - 14s 11ms/step - loss: 0.1817 - accuracy: 0.9306 - val_loss: 0.3742 - val_accuracy: 0.8968\n",
      "Epoch 41/50\n",
      "1313/1313 [==============================] - 14s 11ms/step - loss: 0.1750 - accuracy: 0.9348 - val_loss: 0.3881 - val_accuracy: 0.8961\n",
      "Epoch 42/50\n",
      "1313/1313 [==============================] - 14s 11ms/step - loss: 0.1748 - accuracy: 0.9346 - val_loss: 0.3951 - val_accuracy: 0.8993\n",
      "Epoch 43/50\n",
      "1313/1313 [==============================] - 14s 11ms/step - loss: 0.1691 - accuracy: 0.9358 - val_loss: 0.4301 - val_accuracy: 0.8957\n",
      "Epoch 44/50\n",
      "1313/1313 [==============================] - 14s 11ms/step - loss: 0.1704 - accuracy: 0.9356 - val_loss: 0.4235 - val_accuracy: 0.8984\n",
      "Epoch 45/50\n",
      "1313/1313 [==============================] - 14s 11ms/step - loss: 0.1701 - accuracy: 0.9357 - val_loss: 0.4176 - val_accuracy: 0.8947\n",
      "Epoch 46/50\n",
      "1313/1313 [==============================] - 14s 11ms/step - loss: 0.1739 - accuracy: 0.9355 - val_loss: 0.3857 - val_accuracy: 0.8976\n",
      "Epoch 47/50\n",
      "1313/1313 [==============================] - 14s 11ms/step - loss: 0.1656 - accuracy: 0.9378 - val_loss: 0.4035 - val_accuracy: 0.8958\n",
      "Epoch 48/50\n",
      "1313/1313 [==============================] - 14s 10ms/step - loss: 0.1666 - accuracy: 0.9376 - val_loss: 0.4325 - val_accuracy: 0.8986\n",
      "Epoch 49/50\n",
      "1313/1313 [==============================] - 14s 11ms/step - loss: 0.1621 - accuracy: 0.9389 - val_loss: 0.4063 - val_accuracy: 0.9009\n",
      "Epoch 50/50\n",
      "1313/1313 [==============================] - 14s 11ms/step - loss: 0.1658 - accuracy: 0.9387 - val_loss: 0.4288 - val_accuracy: 0.8964\n",
      "Execution Time =  706.3839461803436\n"
     ]
    }
   ],
   "source": [
    "\n",
    "# Build the Model\n",
    "\n",
    "start_time = time.time()\n",
    "\n",
    "model = tf.keras.models.Sequential()\n",
    "model.add( tf.keras.layers.Flatten( input_shape=INPUT_SHAPE ) )\n",
    "model.add( DENSE_LAYER_01 )\n",
    "model.add( DROPOUT_LAYER )\n",
    "model.add( DENSE_LAYER_02 )\n",
    "model.add( DENSE_LAYER_XX )\n",
    "# model.compile( optimizer=theOptimizer, loss=theLossMetric )\n",
    "model.compile( optimizer=theOptimizer, loss=theLossMetric, metrics=['accuracy'] )\n",
    "# model.fit(x_train, y_train, epochs=theEpochs, verbose = verboseFlag )\n",
    "model.fit(x_train, y_train, epochs=theEpochs, validation_split=theSplit, batch_size=theBatchSize, verbose = verboseFlag )\n",
    "\n",
    "\n",
    "print(\"Execution Time = \", (time.time()-start_time) )\n",
    "\n",
    "\n"
   ]
  },
  {
   "cell_type": "code",
   "execution_count": 34,
   "metadata": {},
   "outputs": [
    {
     "name": "stdout",
     "output_type": "stream",
     "text": [
      "WHO =  1000  Predicted = 0  Actual =  0\n",
      "WHO =  6625  Predicted = 8  Actual =  2\n",
      "WHO =  6726  Predicted = 3  Actual =  3\n",
      "WHO =  526  Predicted = 4  Actual =  4\n",
      "WHO =  9653  Predicted = 0  Actual =  0\n",
      " --------- \n",
      "accuracy =  0.8873\n"
     ]
    }
   ],
   "source": [
    "probs = model.predict( x_test )\n",
    "\n",
    "pred_list = []\n",
    "for p in probs :\n",
    "    pred_list.append( np.argmax( p ) )\n",
    "pred = np.array( pred_list )\n",
    "acc_score = metrics.accuracy_score( y_test, pred)\n",
    "\n",
    "for i in range(5) :\n",
    "    who = getRandomIndex( x_test )\n",
    "    print(\"WHO = \", who, \" Predicted =\", pred[who], \" Actual = \", y_test[who] )\n",
    "\n",
    "print(\" --------- \")\n",
    "print(\"accuracy = \", acc_score)\n"
   ]
  },
  {
   "cell_type": "code",
   "execution_count": 35,
   "metadata": {},
   "outputs": [
    {
     "name": "stdout",
     "output_type": "stream",
     "text": [
      "313/313 [==============================] - 1s 3ms/step - loss: 0.4717 - accuracy: 0.8873\n",
      "loss= 0.4717339873313904\n",
      "accuracy 0.8873000144958496\n"
     ]
    }
   ],
   "source": [
    "NN_loss, NN_acc = model.evaluate( x_test, y_test )\n",
    "print(\"loss=\",NN_loss)\n",
    "print(\"accuracy\",NN_acc)"
   ]
  },
  {
   "cell_type": "code",
   "execution_count": 36,
   "metadata": {},
   "outputs": [
    {
     "name": "stdout",
     "output_type": "stream",
     "text": [
      "INFO:tensorflow:Assets written to: TF_Number_Model/assets\n"
     ]
    }
   ],
   "source": [
    "model.save( theTensorFlowSaveFile )"
   ]
  },
  {
   "cell_type": "code",
   "execution_count": 37,
   "metadata": {},
   "outputs": [],
   "source": [
    "new_model= tf.keras.models.load_model( theTensorFlowSaveFile )"
   ]
  },
  {
   "cell_type": "code",
   "execution_count": 38,
   "metadata": {},
   "outputs": [],
   "source": [
    "predictions = new_model.predict( x_test ) "
   ]
  },
  {
   "cell_type": "code",
   "execution_count": 39,
   "metadata": {},
   "outputs": [
    {
     "name": "stdout",
     "output_type": "stream",
     "text": [
      "[9.9998260e-01 4.7283114e-14 7.7661616e-07 2.1396127e-09 5.1746684e-12\n",
      " 1.5040620e-17 1.6681608e-05 3.5198962e-24 1.1646302e-13 1.8438536e-27]\n",
      "predict= 0 actual= 0\n"
     ]
    },
    {
     "data": {
      "image/png": "[encoded data removed]",
      "text/plain": [
       "<Figure size 432x288 with 1 Axes>"
      ]
     },
     "metadata": {
      "needs_background": "light"
     },
     "output_type": "display_data"
    }
   ],
   "source": [
    "who=getRandomIndex( x_test )\n",
    "print( predictions[who]) # probability score\n",
    "result = np.argmax( list(predictions[who]) )\n",
    "print(\"predict=\",result,\"actual=\",y_test[who])\n",
    "plt.imshow( x_test[who], plt.cm.binary )\n",
    "plt.show()"
   ]
  },
  {
   "cell_type": "markdown",
   "metadata": {},
   "source": [
    "# Accuracy of RANDOM FOREST and NEURAL NETWORK"
   ]
  },
  {
   "cell_type": "code",
   "execution_count": 40,
   "metadata": {},
   "outputs": [
    {
     "name": "stdout",
     "output_type": "stream",
     "text": [
      "RF accuracy 0.8781\n",
      "NN accuracy 0.8873000144958496\n"
     ]
    }
   ],
   "source": [
    "print(\"RF accuracy\", RF_acc )\n",
    "print(\"NN accuracy\",NN_acc)"
   ]
  },
  {
   "cell_type": "code",
   "execution_count": null,
   "metadata": {},
   "outputs": [],
   "source": []
  }
 ],
 "metadata": {
  "kernelspec": {
   "display_name": "Python [conda env:catdogenv]",
   "language": "python",
   "name": "conda-env-catdogenv-py"
  },
  "language_info": {
   "codemirror_mode": {
    "name": "ipython",
    "version": 3
   },
   "file_extension": ".py",
   "mimetype": "text/x-python",
   "name": "python",
   "nbconvert_exporter": "python",
   "pygments_lexer": "ipython3",
   "version": "3.9.13"
  }
 },
 "nbformat": 4,
 "nbformat_minor": 2
}
